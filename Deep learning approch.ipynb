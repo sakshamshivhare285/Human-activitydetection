{
 "cells": [
  {
   "cell_type": "code",
   "execution_count": 1,
   "id": "465aaced",
   "metadata": {},
   "outputs": [],
   "source": [
    "import pandas as pd\n",
    "import numpy as np\n",
    "import os"
   ]
  },
  {
   "cell_type": "code",
   "execution_count": 2,
   "id": "20dce9d3",
   "metadata": {},
   "outputs": [],
   "source": [
    "# Activities are the class labels\n",
    "# It is a 6 class classification\n",
    "ACTIVITIES = {\n",
    "    0: 'WALKING',\n",
    "    1: 'WALKING_UPSTAIRS',\n",
    "    2: 'WALKING_DOWNSTAIRS',\n",
    "    3: 'SITTING',\n",
    "    4: 'STANDING',\n",
    "    5: 'LAYING',\n",
    "}"
   ]
  },
  {
   "cell_type": "code",
   "execution_count": 71,
   "id": "5cc4f64c",
   "metadata": {},
   "outputs": [],
   "source": [
    "# utility function to print confusion matrix\n",
    "def confusion_mat(y_true,y_pred):\n",
    "    y_true = pd.Series([ACTIVITIES[y] for y in np.argmax(y_true, axis=1)])\n",
    "    y_pred = pd.Series([ACTIVITIES[y] for y in np.argmax(y_pred, axis=1)])\n",
    "    return pd.crosstab(y_true,y_pred)"
   ]
  },
  {
   "cell_type": "markdown",
   "id": "50331c41",
   "metadata": {},
   "source": [
    "# Data imports"
   ]
  },
  {
   "cell_type": "code",
   "execution_count": 4,
   "id": "286de607",
   "metadata": {},
   "outputs": [],
   "source": [
    "datadir = 'UCI_HAR_Dataset'"
   ]
  },
  {
   "cell_type": "code",
   "execution_count": 5,
   "id": "b9db3638",
   "metadata": {},
   "outputs": [],
   "source": [
    "# Raw data signals\n",
    "# Signals are from Accelerometer and Gyroscope\n",
    "# The signals are in x,y,z directions\n",
    "# Sensor signals are filtered to have only body acceleration\n",
    "# excluding the acceleration due to gravity\n",
    "# Triaxial acceleration from the accelerometer is total acceleration\n",
    "SIGNALS = [\n",
    "    \"body_acc_x\",\n",
    "    \"body_acc_y\",\n",
    "    \"body_acc_z\",\n",
    "    \"body_gyro_x\",\n",
    "    \"body_gyro_y\",\n",
    "    \"body_gyro_z\",\n",
    "    \"total_acc_x\",\n",
    "    \"total_acc_y\",\n",
    "    \"total_acc_z\"\n",
    "]"
   ]
  },
  {
   "cell_type": "code",
   "execution_count": 6,
   "id": "5b80de2e",
   "metadata": {},
   "outputs": [],
   "source": [
    "# utility function to read the data\n",
    "\n",
    "def _read_csv(filename):\n",
    "    df = pd.read_csv(filename, delim_whitespace=True,header=None)\n",
    "    return df"
   ]
  },
  {
   "cell_type": "code",
   "execution_count": 23,
   "id": "9b8512f5",
   "metadata": {},
   "outputs": [],
   "source": [
    "# utility function to load the data \n",
    "def load_signal(subset):\n",
    "    signal_data = []\n",
    "    for signal in SIGNALS:\n",
    "        filename = f'UCI_HAR_Dataset/{subset}/Inertial Signals/{signal}_{subset}.txt'\n",
    "        signal_data.append(_read_csv(filename).to_numpy()\n",
    "                          )\n",
    "    return np.transpose(signal_data,(1,2,0))"
   ]
  },
  {
   "cell_type": "code",
   "execution_count": 24,
   "id": "851c7a6b",
   "metadata": {},
   "outputs": [],
   "source": [
    "def load_y(subset):\n",
    "    \"\"\"\n",
    "    The objective that we are trying to predict is a integer, from 1 to 6,\n",
    "    that represents a human activity. We return a binary representation of \n",
    "    every sample objective as a 6 bits vector using One Hot Encoding\n",
    "    (https://pandas.pydata.org/pandas-docs/stable/generated/pandas.get_dummies.html)\n",
    "    \"\"\"\n",
    "    filename = f'UCI_HAR_Dataset/{subset}/y_{subset}.txt'\n",
    "    y = _read_csv(filename)[0]\n",
    "    return pd.get_dummies(y).to_numpy()\n",
    "    "
   ]
  },
  {
   "cell_type": "code",
   "execution_count": 14,
   "id": "400c3129",
   "metadata": {},
   "outputs": [],
   "source": [
    "def load_data():\n",
    "    x_train,x_test = load_signal('train'), load_signal('test')\n",
    "    y_train,y_test = load_y('train'), load_y('test')\n",
    "    return x_train,x_test,y_train,y_test    "
   ]
  },
  {
   "cell_type": "code",
   "execution_count": 17,
   "id": "ae01dece",
   "metadata": {},
   "outputs": [],
   "source": [
    "# Importing tensorflow\n",
    "import tensorflow as tf\n",
    "from tensorflow import keras\n",
    "from keras.layers import Dense, Dropout, LSTM\n",
    "from keras.models import Sequential"
   ]
  },
  {
   "cell_type": "code",
   "execution_count": 18,
   "id": "430f35df",
   "metadata": {},
   "outputs": [],
   "source": [
    "# Initializing parameters\n",
    "epochs = 30\n",
    "batch_size = 16\n",
    "n_hidden = 32"
   ]
  },
  {
   "cell_type": "code",
   "execution_count": 19,
   "id": "efbba572",
   "metadata": {},
   "outputs": [],
   "source": [
    "# Utility function to count the number of classes\n",
    "def _count_classes(y):\n",
    "    return len(set([tuple(category) for category in y]))"
   ]
  },
  {
   "cell_type": "code",
   "execution_count": 25,
   "id": "644b78d2",
   "metadata": {},
   "outputs": [],
   "source": [
    "# Loading the train and test data\n",
    "X_train, X_test, Y_train, Y_test = load_data()"
   ]
  },
  {
   "cell_type": "code",
   "execution_count": 34,
   "id": "e8ab1af9",
   "metadata": {},
   "outputs": [
    {
     "name": "stdout",
     "output_type": "stream",
     "text": [
      "128\n",
      "9\n",
      "7352\n"
     ]
    }
   ],
   "source": [
    "timesteps = len(X_train[0])\n",
    "input_dim = len(X_train[0][0])\n",
    "n_classes = _count_classes(Y_train)\n",
    "\n",
    "print(timesteps)\n",
    "print(input_dim)\n",
    "print(len(X_train))"
   ]
  },
  {
   "cell_type": "code",
   "execution_count": 35,
   "id": "8837fd23",
   "metadata": {},
   "outputs": [
    {
     "name": "stdout",
     "output_type": "stream",
     "text": [
      "Model: \"sequential\"\n",
      "_________________________________________________________________\n",
      " Layer (type)                Output Shape              Param #   \n",
      "=================================================================\n",
      " lstm (LSTM)                 (None, 32)                5376      \n",
      "                                                                 \n",
      " dropout (Dropout)           (None, 32)                0         \n",
      "                                                                 \n",
      " dense (Dense)               (None, 6)                 198       \n",
      "                                                                 \n",
      "=================================================================\n",
      "Total params: 5,574\n",
      "Trainable params: 5,574\n",
      "Non-trainable params: 0\n",
      "_________________________________________________________________\n"
     ]
    }
   ],
   "source": [
    "# Initiliazing the sequential model\n",
    "model = Sequential()\n",
    "# Configuring the parameters\n",
    "model.add(LSTM(n_hidden, input_shape=(timesteps, input_dim)))\n",
    "# Adding a dropout layer\n",
    "model.add(Dropout(0.5))\n",
    "# Adding a dense output layer with sigmoid activation\n",
    "model.add(Dense(n_classes, activation='sigmoid'))\n",
    "model.summary()"
   ]
  },
  {
   "cell_type": "code",
   "execution_count": 36,
   "id": "12ae0b46",
   "metadata": {},
   "outputs": [],
   "source": [
    "# Compiling the model\n",
    "model.compile(loss='categorical_crossentropy',\n",
    "              optimizer='Adam',\n",
    "              metrics=['accuracy'])\n"
   ]
  },
  {
   "cell_type": "code",
   "execution_count": 37,
   "id": "4ccca6b6",
   "metadata": {},
   "outputs": [
    {
     "name": "stdout",
     "output_type": "stream",
     "text": [
      "Epoch 1/30\n",
      "460/460 [==============================] - 29s 56ms/step - loss: 1.2003 - accuracy: 0.4943 - val_loss: 0.8692 - val_accuracy: 0.6518\n",
      "Epoch 2/30\n",
      "460/460 [==============================] - 23s 50ms/step - loss: 0.9246 - accuracy: 0.6028 - val_loss: 0.8301 - val_accuracy: 0.6512\n",
      "Epoch 3/30\n",
      "460/460 [==============================] - 24s 51ms/step - loss: 0.7842 - accuracy: 0.6629 - val_loss: 0.7306 - val_accuracy: 0.7139\n",
      "Epoch 4/30\n",
      "460/460 [==============================] - 25s 55ms/step - loss: 0.5966 - accuracy: 0.7665 - val_loss: 0.7061 - val_accuracy: 0.7421\n",
      "Epoch 5/30\n",
      "460/460 [==============================] - 26s 56ms/step - loss: 0.4560 - accuracy: 0.8384 - val_loss: 0.5838 - val_accuracy: 0.8154\n",
      "Epoch 6/30\n",
      "460/460 [==============================] - 25s 55ms/step - loss: 0.5714 - accuracy: 0.8324 - val_loss: 1.4312 - val_accuracy: 0.4992\n",
      "Epoch 7/30\n",
      "460/460 [==============================] - 26s 56ms/step - loss: 0.7613 - accuracy: 0.7029 - val_loss: 0.6234 - val_accuracy: 0.7913\n",
      "Epoch 8/30\n",
      "460/460 [==============================] - 26s 58ms/step - loss: 0.5001 - accuracy: 0.8139 - val_loss: 0.5771 - val_accuracy: 0.8286\n",
      "Epoch 9/30\n",
      "460/460 [==============================] - 26s 57ms/step - loss: 0.3760 - accuracy: 0.8746 - val_loss: 0.5655 - val_accuracy: 0.8487\n",
      "Epoch 10/30\n",
      "460/460 [==============================] - 26s 57ms/step - loss: 0.2946 - accuracy: 0.9076 - val_loss: 0.5128 - val_accuracy: 0.8629\n",
      "Epoch 11/30\n",
      "460/460 [==============================] - 26s 57ms/step - loss: 0.2717 - accuracy: 0.9091 - val_loss: 0.5036 - val_accuracy: 0.8680\n",
      "Epoch 12/30\n",
      "460/460 [==============================] - 26s 57ms/step - loss: 0.2344 - accuracy: 0.9248 - val_loss: 0.5462 - val_accuracy: 0.8697\n",
      "Epoch 13/30\n",
      "460/460 [==============================] - 26s 56ms/step - loss: 0.3287 - accuracy: 0.9076 - val_loss: 0.5209 - val_accuracy: 0.8582\n",
      "Epoch 14/30\n",
      "460/460 [==============================] - 25s 55ms/step - loss: 0.2973 - accuracy: 0.9086 - val_loss: 0.4863 - val_accuracy: 0.8670\n",
      "Epoch 15/30\n",
      "460/460 [==============================] - 25s 55ms/step - loss: 0.7182 - accuracy: 0.8039 - val_loss: 0.9013 - val_accuracy: 0.7150\n",
      "Epoch 16/30\n",
      "460/460 [==============================] - 26s 56ms/step - loss: 0.5712 - accuracy: 0.8153 - val_loss: 0.8888 - val_accuracy: 0.7319\n",
      "Epoch 17/30\n",
      "460/460 [==============================] - 25s 55ms/step - loss: 0.5975 - accuracy: 0.8029 - val_loss: 0.5824 - val_accuracy: 0.8083\n",
      "Epoch 18/30\n",
      "460/460 [==============================] - 25s 54ms/step - loss: 0.3366 - accuracy: 0.8973 - val_loss: 0.5038 - val_accuracy: 0.8470\n",
      "Epoch 19/30\n",
      "460/460 [==============================] - 26s 56ms/step - loss: 0.2871 - accuracy: 0.9094 - val_loss: 0.4776 - val_accuracy: 0.8592\n",
      "Epoch 20/30\n",
      "460/460 [==============================] - 25s 55ms/step - loss: 0.3585 - accuracy: 0.8866 - val_loss: 0.4437 - val_accuracy: 0.8843\n",
      "Epoch 21/30\n",
      "460/460 [==============================] - 25s 55ms/step - loss: 0.2364 - accuracy: 0.9297 - val_loss: 0.5180 - val_accuracy: 0.8487\n",
      "Epoch 22/30\n",
      "460/460 [==============================] - 24s 53ms/step - loss: 0.2091 - accuracy: 0.9302 - val_loss: 0.5074 - val_accuracy: 0.8585\n",
      "Epoch 23/30\n",
      "460/460 [==============================] - 25s 55ms/step - loss: 0.1910 - accuracy: 0.9342 - val_loss: 0.5016 - val_accuracy: 0.8782\n",
      "Epoch 24/30\n",
      "460/460 [==============================] - 25s 55ms/step - loss: 0.1902 - accuracy: 0.9334 - val_loss: 0.4304 - val_accuracy: 0.8907\n",
      "Epoch 25/30\n",
      "460/460 [==============================] - 25s 55ms/step - loss: 0.1920 - accuracy: 0.9331 - val_loss: 0.4895 - val_accuracy: 0.8863\n",
      "Epoch 26/30\n",
      "460/460 [==============================] - 22s 47ms/step - loss: 0.1696 - accuracy: 0.9407 - val_loss: 0.4429 - val_accuracy: 0.8897\n",
      "Epoch 27/30\n",
      "460/460 [==============================] - 24s 53ms/step - loss: 0.1716 - accuracy: 0.9397 - val_loss: 0.4132 - val_accuracy: 0.8806\n",
      "Epoch 28/30\n",
      "460/460 [==============================] - 25s 55ms/step - loss: 0.1823 - accuracy: 0.9378 - val_loss: 1.3412 - val_accuracy: 0.6841\n",
      "Epoch 29/30\n",
      "460/460 [==============================] - 25s 54ms/step - loss: 0.2456 - accuracy: 0.9203 - val_loss: 0.3679 - val_accuracy: 0.8965\n",
      "Epoch 30/30\n",
      "460/460 [==============================] - 25s 54ms/step - loss: 0.1573 - accuracy: 0.9441 - val_loss: 0.3955 - val_accuracy: 0.8918\n"
     ]
    },
    {
     "data": {
      "text/plain": [
       "<keras.callbacks.History at 0x29f5c159f30>"
      ]
     },
     "execution_count": 37,
     "metadata": {},
     "output_type": "execute_result"
    }
   ],
   "source": [
    "# Training the model\n",
    "model.fit(X_train,\n",
    "          Y_train,\n",
    "          batch_size=batch_size,\n",
    "          validation_data=(X_test, Y_test),\n",
    "          epochs=epochs)"
   ]
  },
  {
   "cell_type": "code",
   "execution_count": 54,
   "id": "e6842819",
   "metadata": {},
   "outputs": [
    {
     "name": "stdout",
     "output_type": "stream",
     "text": [
      "93/93 [==============================] - 2s 23ms/step\n"
     ]
    }
   ],
   "source": [
    "y_pred = model.predict(X_test)"
   ]
  },
  {
   "cell_type": "code",
   "execution_count": 73,
   "id": "e4b56ad0",
   "metadata": {},
   "outputs": [
    {
     "data": {
      "text/html": [
       "<div>\n",
       "<style scoped>\n",
       "    .dataframe tbody tr th:only-of-type {\n",
       "        vertical-align: middle;\n",
       "    }\n",
       "\n",
       "    .dataframe tbody tr th {\n",
       "        vertical-align: top;\n",
       "    }\n",
       "\n",
       "    .dataframe thead th {\n",
       "        text-align: right;\n",
       "    }\n",
       "</style>\n",
       "<table border=\"1\" class=\"dataframe\">\n",
       "  <thead>\n",
       "    <tr style=\"text-align: right;\">\n",
       "      <th>col_0</th>\n",
       "      <th>LAYING</th>\n",
       "      <th>SITTING</th>\n",
       "      <th>STANDING</th>\n",
       "      <th>WALKING</th>\n",
       "      <th>WALKING_DOWNSTAIRS</th>\n",
       "      <th>WALKING_UPSTAIRS</th>\n",
       "    </tr>\n",
       "    <tr>\n",
       "      <th>row_0</th>\n",
       "      <th></th>\n",
       "      <th></th>\n",
       "      <th></th>\n",
       "      <th></th>\n",
       "      <th></th>\n",
       "      <th></th>\n",
       "    </tr>\n",
       "  </thead>\n",
       "  <tbody>\n",
       "    <tr>\n",
       "      <th>LAYING</th>\n",
       "      <td>510</td>\n",
       "      <td>0</td>\n",
       "      <td>0</td>\n",
       "      <td>0</td>\n",
       "      <td>0</td>\n",
       "      <td>27</td>\n",
       "    </tr>\n",
       "    <tr>\n",
       "      <th>SITTING</th>\n",
       "      <td>0</td>\n",
       "      <td>363</td>\n",
       "      <td>118</td>\n",
       "      <td>1</td>\n",
       "      <td>0</td>\n",
       "      <td>9</td>\n",
       "    </tr>\n",
       "    <tr>\n",
       "      <th>STANDING</th>\n",
       "      <td>0</td>\n",
       "      <td>63</td>\n",
       "      <td>465</td>\n",
       "      <td>4</td>\n",
       "      <td>0</td>\n",
       "      <td>0</td>\n",
       "    </tr>\n",
       "    <tr>\n",
       "      <th>WALKING</th>\n",
       "      <td>0</td>\n",
       "      <td>0</td>\n",
       "      <td>0</td>\n",
       "      <td>424</td>\n",
       "      <td>27</td>\n",
       "      <td>45</td>\n",
       "    </tr>\n",
       "    <tr>\n",
       "      <th>WALKING_DOWNSTAIRS</th>\n",
       "      <td>0</td>\n",
       "      <td>0</td>\n",
       "      <td>0</td>\n",
       "      <td>1</td>\n",
       "      <td>416</td>\n",
       "      <td>3</td>\n",
       "    </tr>\n",
       "    <tr>\n",
       "      <th>WALKING_UPSTAIRS</th>\n",
       "      <td>0</td>\n",
       "      <td>0</td>\n",
       "      <td>0</td>\n",
       "      <td>1</td>\n",
       "      <td>20</td>\n",
       "      <td>450</td>\n",
       "    </tr>\n",
       "  </tbody>\n",
       "</table>\n",
       "</div>"
      ],
      "text/plain": [
       "col_0               LAYING  SITTING  STANDING  WALKING  WALKING_DOWNSTAIRS  \\\n",
       "row_0                                                                        \n",
       "LAYING                 510        0         0        0                   0   \n",
       "SITTING                  0      363       118        1                   0   \n",
       "STANDING                 0       63       465        4                   0   \n",
       "WALKING                  0        0         0      424                  27   \n",
       "WALKING_DOWNSTAIRS       0        0         0        1                 416   \n",
       "WALKING_UPSTAIRS         0        0         0        1                  20   \n",
       "\n",
       "col_0               WALKING_UPSTAIRS  \n",
       "row_0                                 \n",
       "LAYING                            27  \n",
       "SITTING                            9  \n",
       "STANDING                           0  \n",
       "WALKING                           45  \n",
       "WALKING_DOWNSTAIRS                 3  \n",
       "WALKING_UPSTAIRS                 450  "
      ]
     },
     "execution_count": 73,
     "metadata": {},
     "output_type": "execute_result"
    }
   ],
   "source": [
    "confusion_mat(Y_test,y_pred)"
   ]
  },
  {
   "cell_type": "code",
   "execution_count": 74,
   "id": "1017756a",
   "metadata": {},
   "outputs": [
    {
     "name": "stdout",
     "output_type": "stream",
     "text": [
      "93/93 [==============================] - 2s 20ms/step - loss: 0.3955 - accuracy: 0.8918\n"
     ]
    }
   ],
   "source": [
    "score = model.evaluate(X_test, Y_test)"
   ]
  },
  {
   "cell_type": "code",
   "execution_count": 78,
   "id": "07891eaa",
   "metadata": {},
   "outputs": [
    {
     "name": "stdout",
     "output_type": "stream",
     "text": [
      "accuracy of the nominal model is: 0.8917543292045593\n",
      "loss of the nominal model is: 0.39546895027160645\n"
     ]
    }
   ],
   "source": [
    "print('accuracy of the nominal model is:',score[1])\n",
    "print('loss of the nominal model is:',score[0])"
   ]
  },
  {
   "cell_type": "markdown",
   "id": "d66683aa",
   "metadata": {},
   "source": [
    "# Conclusion\n",
    "    ** With a simple 2 layer architecture we got 90.09% accuracy and a loss of 0.30 **\n",
    "    ** We can further imporve the performace with Hyperparameter tuning **"
   ]
  },
  {
   "cell_type": "code",
   "execution_count": null,
   "id": "a745e405",
   "metadata": {},
   "outputs": [],
   "source": []
  }
 ],
 "metadata": {
  "kernelspec": {
   "display_name": "Python 3 (ipykernel)",
   "language": "python",
   "name": "python3"
  },
  "language_info": {
   "codemirror_mode": {
    "name": "ipython",
    "version": 3
   },
   "file_extension": ".py",
   "mimetype": "text/x-python",
   "name": "python",
   "nbconvert_exporter": "python",
   "pygments_lexer": "ipython3",
   "version": "3.10.9"
  }
 },
 "nbformat": 4,
 "nbformat_minor": 5
}
